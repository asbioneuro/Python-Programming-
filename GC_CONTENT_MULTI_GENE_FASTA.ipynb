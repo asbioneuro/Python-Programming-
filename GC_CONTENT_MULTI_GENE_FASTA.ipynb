{
 "cells": [
  {
   "cell_type": "code",
   "execution_count": 5,
   "metadata": {},
   "outputs": [],
   "source": [
    "from Bio import SeqIO\n",
    "from Bio.SeqUtils import GC\n",
    "import pandas as pd"
   ]
  },
  {
   "cell_type": "code",
   "execution_count": 11,
   "metadata": {},
   "outputs": [],
   "source": [
    "filename=\"multi_gene_sequence.fasta\""
   ]
  },
  {
   "cell_type": "code",
   "execution_count": 12,
   "metadata": {},
   "outputs": [],
   "source": [
    "seq_objects=SeqIO.parse(filename,\"fasta\")"
   ]
  },
  {
   "cell_type": "code",
   "execution_count": 13,
   "metadata": {},
   "outputs": [],
   "source": [
    "sequences=[seq for seq in seq_objects]"
   ]
  },
  {
   "cell_type": "code",
   "execution_count": 14,
   "metadata": {},
   "outputs": [
    {
     "name": "stdout",
     "output_type": "stream",
     "text": [
      "4\n"
     ]
    }
   ],
   "source": [
    "number_of_sequences=len(sequences)\n",
    "print(number_of_sequences)"
   ]
  },
  {
   "cell_type": "code",
   "execution_count": 15,
   "metadata": {},
   "outputs": [
    {
     "name": "stdout",
     "output_type": "stream",
     "text": [
      "BUB1B 38.72\n",
      "CCNA2 39.34\n",
      "TP53 49.38\n",
      "CCNB2 42.57\n"
     ]
    }
   ],
   "source": [
    "for seq in sequences:\n",
    "    seq_id=seq.id\n",
    "    sequence=seq.seq\n",
    "    gc_content=GC(sequence)\n",
    "    gc_content=round(gc_content,2)\n",
    "    print(seq_id, gc_content)"
   ]
  },
  {
   "cell_type": "code",
   "execution_count": 19,
   "metadata": {},
   "outputs": [
    {
     "name": "stdout",
     "output_type": "stream",
     "text": [
      "GC CONTENT HAS BEEN COMPUTED SUCCESSFULLY\n",
      "GC CONTENT HAS BEEN COMPUTED SUCCESSFULLY\n",
      "GC CONTENT HAS BEEN COMPUTED SUCCESSFULLY\n",
      "GC CONTENT HAS BEEN COMPUTED SUCCESSFULLY\n"
     ]
    }
   ],
   "source": [
    "seq_ids=[]\n",
    "gc_contents=[]\n",
    "\n",
    "\n",
    "for seq in sequences:\n",
    "    seq_id=seq.id\n",
    "    sequence=seq.seq\n",
    "    gc_content=GC(sequence)\n",
    "    gc_content=round(gc_content,2)\n",
    "    \n",
    "    seq_ids.append(seq_id)\n",
    "    gc_contents.append(gc_content)\n",
    "    \n",
    "    print('GC CONTENT HAS BEEN COMPUTED SUCCESSFULLY')"
   ]
  },
  {
   "cell_type": "code",
   "execution_count": 20,
   "metadata": {},
   "outputs": [
    {
     "name": "stdout",
     "output_type": "stream",
     "text": [
      "['BUB1B', 'CCNA2', 'TP53', 'CCNB2']\n"
     ]
    }
   ],
   "source": [
    "print(seq_ids)"
   ]
  },
  {
   "cell_type": "code",
   "execution_count": 21,
   "metadata": {},
   "outputs": [
    {
     "name": "stdout",
     "output_type": "stream",
     "text": [
      "[38.72, 39.34, 49.38, 42.57]\n"
     ]
    }
   ],
   "source": [
    "print(gc_contents)"
   ]
  },
  {
   "cell_type": "code",
   "execution_count": 23,
   "metadata": {},
   "outputs": [],
   "source": [
    "dataframe=pd.DataFrame()\n",
    "dataframe['Sequence_ID']=seq_ids\n",
    "dataframe['GC_content']=gc_contents"
   ]
  },
  {
   "cell_type": "code",
   "execution_count": 24,
   "metadata": {},
   "outputs": [
    {
     "name": "stdout",
     "output_type": "stream",
     "text": [
      "(4, 2)\n"
     ]
    }
   ],
   "source": [
    "print(dataframe.shape)"
   ]
  },
  {
   "cell_type": "code",
   "execution_count": 25,
   "metadata": {},
   "outputs": [
    {
     "name": "stdout",
     "output_type": "stream",
     "text": [
      "  Sequence_ID  GC_content\n",
      "0       BUB1B       38.72\n",
      "1       CCNA2       39.34\n",
      "2        TP53       49.38\n",
      "3       CCNB2       42.57\n"
     ]
    }
   ],
   "source": [
    "print(dataframe)"
   ]
  },
  {
   "cell_type": "code",
   "execution_count": 28,
   "metadata": {},
   "outputs": [],
   "source": [
    "output_file=\"gc_content_multi_fasta_files.csv\"\n",
    "dataframe.to_csv(output_file, index=False)"
   ]
  },
  {
   "cell_type": "code",
   "execution_count": null,
   "metadata": {},
   "outputs": [],
   "source": []
  }
 ],
 "metadata": {
  "kernelspec": {
   "display_name": "Python 3",
   "language": "python",
   "name": "python3"
  },
  "language_info": {
   "codemirror_mode": {
    "name": "ipython",
    "version": 3
   },
   "file_extension": ".py",
   "mimetype": "text/x-python",
   "name": "python",
   "nbconvert_exporter": "python",
   "pygments_lexer": "ipython3",
   "version": "3.7.6"
  }
 },
 "nbformat": 4,
 "nbformat_minor": 4
}
